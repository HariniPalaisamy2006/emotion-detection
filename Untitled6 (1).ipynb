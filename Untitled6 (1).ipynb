{
  "nbformat": 4,
  "nbformat_minor": 0,
  "metadata": {
    "colab": {
      "provenance": []
    },
    "kernelspec": {
      "name": "python3",
      "display_name": "Python 3"
    },
    "language_info": {
      "name": "python"
    }
  },
  "cells": [
    {
      "cell_type": "code",
      "execution_count": null,
      "metadata": {
        "colab": {
          "base_uri": "https://localhost:8080/"
        },
        "id": "mal4RS77Xd9X",
        "outputId": "6c2ca20c-9dc2-4f86-ba60-a9f1f3e9d01d"
      },
      "outputs": [
        {
          "output_type": "stream",
          "name": "stdout",
          "text": [
            "Sample dataset created as 'social_media_emotions.csv'\n"
          ]
        }
      ],
      "source": [
        "import pandas as pd\n",
        "\n",
        "# Sample social media posts and emotions\n",
        "data = {\n",
        "    'text': [\n",
        "        \"I just got a promotion at work!\",\n",
        "        \"I'm feeling really low today.\",\n",
        "        \"That jump scare was terrifying!\",\n",
        "        \"What a beautiful wedding.\",\n",
        "        \"I'm furious about the delay in my flight.\",\n",
        "        \"Just won the lottery!\",\n",
        "        \"Missed my bus again. Ugh!\",\n",
        "        \"Why did this happen to me?\",\n",
        "        \"OMG I can't believe it!\",\n",
        "        \"The sunset is breathtaking.\",\n",
        "        \"I'm so anxious for the interview.\",\n",
        "        \"This made my day!\",\n",
        "        \"Everything is ruined.\",\n",
        "        \"Totally unexpected surprise party!\",\n",
        "        \"I hate when people lie.\"\n",
        "    ],\n",
        "    'emotion': [\n",
        "        'joy', 'sadness', 'fear', 'joy', 'anger',\n",
        "        'joy', 'anger', 'sadness', 'surprise', 'joy',\n",
        "        'fear', 'joy', 'sadness', 'surprise', 'anger'\n",
        "    ]\n",
        "}\n",
        "\n",
        "# Create and save DataFrame\n",
        "df = pd.DataFrame(data)\n",
        "df.to_csv('social_media_emotions.csv', index=False)\n",
        "\n",
        "print(\"Sample dataset created as 'social_media_emotions.csv'\")"
      ]
    },
    {
      "cell_type": "code",
      "source": [
        "df = pd.read_csv('social_media_emotions.csv')\n",
        "print(df.head())"
      ],
      "metadata": {
        "colab": {
          "base_uri": "https://localhost:8080/"
        },
        "id": "IEO0V7nkXrPU",
        "outputId": "77f259bd-091c-44ca-a610-33d76fb77048"
      },
      "execution_count": null,
      "outputs": [
        {
          "output_type": "stream",
          "name": "stdout",
          "text": [
            "                                        text  emotion\n",
            "0            I just got a promotion at work!      joy\n",
            "1              I'm feeling really low today.  sadness\n",
            "2            That jump scare was terrifying!     fear\n",
            "3                  What a beautiful wedding.      joy\n",
            "4  I'm furious about the delay in my flight.    anger\n"
          ]
        }
      ]
    },
    {
      "cell_type": "code",
      "source": [
        "import pandas as pd\n",
        "import numpy as np\n",
        "import re\n",
        "import nltk\n",
        "from nltk.corpus import stopwords\n",
        "\n",
        "# Download NLTK stopwords\n",
        "nltk.download('stopwords')\n",
        "stop_words = set(stopwords.words('english'))\n",
        "\n",
        "# Load the dataset\n",
        "df = pd.read_csv(\"social_media_emotions.csv\")\n",
        "print(\"Original shape:\", df.shape)\n",
        "\n",
        "# Drop missing and duplicate entries\n",
        "df.dropna(subset=['text', 'emotion'], inplace=True)\n",
        "df.drop_duplicates(subset='text', inplace=True)\n",
        "\n",
        "# Filter out very short texts\n",
        "df = df[df['text'].apply(lambda x: len(str(x).split()) > 2)]\n",
        "\n",
        "# Define cleaning function\n",
        "def clean_text(text):\n",
        "    text = text.lower()\n",
        "    text = re.sub(r\"http\\S+|www\\S+|https\\S+\", '', text)  # Remove URLs\n",
        "    text = re.sub(r'@\\w+|#', '', text)  # Remove mentions and hashtags\n",
        "    text = re.sub(r'[^\\w\\s]', '', text)  # Remove punctuation\n",
        "    text = re.sub(r'\\d+', '', text)  # Remove digits\n",
        "    tokens = text.split()\n",
        "    tokens = [word for word in tokens if word not in stop_words]\n",
        "    return ' '.join(tokens)\n",
        "\n",
        "# Apply text cleaning\n",
        "df['cleaned_text'] = df['text'].apply(clean_text)\n",
        "\n",
        "# Final output\n",
        "print(\"Cleaned shape:\", df.shape)\n",
        "print(df[['cleaned_text', 'emotion']].head())  # show emotion instead of encoded_emotion"
      ],
      "metadata": {
        "id": "sDeBlcdtXw6k",
        "outputId": "cc57f685-84e4-446b-b89d-97f606e6dcd4",
        "colab": {
          "base_uri": "https://localhost:8080/"
        }
      },
      "execution_count": null,
      "outputs": [
        {
          "output_type": "stream",
          "name": "stdout",
          "text": [
            "Original shape: (15, 2)\n",
            "Cleaned shape: (15, 3)\n",
            "                  cleaned_text  emotion\n",
            "0           got promotion work      joy\n",
            "1  im feeling really low today  sadness\n",
            "2        jump scare terrifying     fear\n",
            "3            beautiful wedding      joy\n",
            "4      im furious delay flight    anger\n"
          ]
        },
        {
          "output_type": "stream",
          "name": "stderr",
          "text": [
            "[nltk_data] Downloading package stopwords to /root/nltk_data...\n",
            "[nltk_data]   Package stopwords is already up-to-date!\n"
          ]
        }
      ]
    }
  ]
}